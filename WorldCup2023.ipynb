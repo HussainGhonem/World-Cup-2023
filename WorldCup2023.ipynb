{
 "cells": [
  {
   "cell_type": "code",
   "execution_count": 1,
   "metadata": {},
   "outputs": [],
   "source": [
    "import pandas as pd\n",
    "import matplotlib.pyplot as plt\n",
    "import seaborn as sns\n",
    "\n",
    "from sklearn.preprocessing import StandardScaler\n",
    "from sklearn.model_selection import train_test_split\n",
    "from sklearn.metrics import mean_squared_error\n",
    "from sklearn.model_selection import GridSearchCV\n",
    "from sklearn.ensemble import RandomForestRegressor"
   ]
  },
  {
   "cell_type": "markdown",
   "metadata": {},
   "source": [
    "# Data Preprocessing\n"
   ]
  },
  {
   "cell_type": "code",
   "execution_count": 2,
   "metadata": {},
   "outputs": [
    {
     "data": {
      "text/html": [
       "<div>\n",
       "<style scoped>\n",
       "    .dataframe tbody tr th:only-of-type {\n",
       "        vertical-align: middle;\n",
       "    }\n",
       "\n",
       "    .dataframe tbody tr th {\n",
       "        vertical-align: top;\n",
       "    }\n",
       "\n",
       "    .dataframe thead th {\n",
       "        text-align: right;\n",
       "    }\n",
       "</style>\n",
       "<table border=\"1\" class=\"dataframe\">\n",
       "  <thead>\n",
       "    <tr style=\"text-align: right;\">\n",
       "      <th></th>\n",
       "      <th>team</th>\n",
       "      <th>player</th>\n",
       "      <th>bat_or_bowl</th>\n",
       "      <th>bb_bf</th>\n",
       "      <th>runs</th>\n",
       "      <th>wkts</th>\n",
       "      <th>wicketball_prob</th>\n",
       "      <th>runs_per_ball</th>\n",
       "      <th>opposition</th>\n",
       "      <th>ground</th>\n",
       "      <th>start_date</th>\n",
       "      <th>overs</th>\n",
       "      <th>mdns</th>\n",
       "      <th>econ</th>\n",
       "      <th>inns</th>\n",
       "      <th>4s</th>\n",
       "      <th>6s</th>\n",
       "      <th>sr</th>\n",
       "      <th>not_out</th>\n",
       "      <th>mins</th>\n",
       "    </tr>\n",
       "  </thead>\n",
       "  <tbody>\n",
       "    <tr>\n",
       "      <th>0</th>\n",
       "      <td>PAK</td>\n",
       "      <td>Shaheen Shah Afridi (PAK)</td>\n",
       "      <td>bowl</td>\n",
       "      <td>60</td>\n",
       "      <td>45</td>\n",
       "      <td>3.0</td>\n",
       "      <td>0.05</td>\n",
       "      <td>0.750000</td>\n",
       "      <td>v South Africa</td>\n",
       "      <td>Chennai</td>\n",
       "      <td>27-Oct-23</td>\n",
       "      <td>10.0</td>\n",
       "      <td>0.0</td>\n",
       "      <td>4.50</td>\n",
       "      <td>2</td>\n",
       "      <td>NaN</td>\n",
       "      <td>NaN</td>\n",
       "      <td>NaN</td>\n",
       "      <td>NaN</td>\n",
       "      <td>NaN</td>\n",
       "    </tr>\n",
       "    <tr>\n",
       "      <th>1</th>\n",
       "      <td>ENG</td>\n",
       "      <td>DJ Willey (ENG)</td>\n",
       "      <td>bowl</td>\n",
       "      <td>60</td>\n",
       "      <td>45</td>\n",
       "      <td>3.0</td>\n",
       "      <td>0.05</td>\n",
       "      <td>0.750000</td>\n",
       "      <td>v India</td>\n",
       "      <td>Lucknow</td>\n",
       "      <td>29-Oct-23</td>\n",
       "      <td>10.0</td>\n",
       "      <td>2.0</td>\n",
       "      <td>4.50</td>\n",
       "      <td>1</td>\n",
       "      <td>NaN</td>\n",
       "      <td>NaN</td>\n",
       "      <td>NaN</td>\n",
       "      <td>NaN</td>\n",
       "      <td>NaN</td>\n",
       "    </tr>\n",
       "    <tr>\n",
       "      <th>2</th>\n",
       "      <td>NZ</td>\n",
       "      <td>MJ Henry (NZ)</td>\n",
       "      <td>bowl</td>\n",
       "      <td>60</td>\n",
       "      <td>48</td>\n",
       "      <td>3.0</td>\n",
       "      <td>0.05</td>\n",
       "      <td>0.800000</td>\n",
       "      <td>v England</td>\n",
       "      <td>Ahmedabad</td>\n",
       "      <td>5-Oct-23</td>\n",
       "      <td>10.0</td>\n",
       "      <td>1.0</td>\n",
       "      <td>4.80</td>\n",
       "      <td>1</td>\n",
       "      <td>NaN</td>\n",
       "      <td>NaN</td>\n",
       "      <td>NaN</td>\n",
       "      <td>NaN</td>\n",
       "      <td>NaN</td>\n",
       "    </tr>\n",
       "    <tr>\n",
       "      <th>3</th>\n",
       "      <td>NZ</td>\n",
       "      <td>LH Ferguson (NZ)</td>\n",
       "      <td>bowl</td>\n",
       "      <td>60</td>\n",
       "      <td>49</td>\n",
       "      <td>3.0</td>\n",
       "      <td>0.05</td>\n",
       "      <td>0.816667</td>\n",
       "      <td>v Bangladesh</td>\n",
       "      <td>Chennai</td>\n",
       "      <td>13-Oct-23</td>\n",
       "      <td>10.0</td>\n",
       "      <td>0.0</td>\n",
       "      <td>4.90</td>\n",
       "      <td>1</td>\n",
       "      <td>NaN</td>\n",
       "      <td>NaN</td>\n",
       "      <td>NaN</td>\n",
       "      <td>NaN</td>\n",
       "      <td>NaN</td>\n",
       "    </tr>\n",
       "    <tr>\n",
       "      <th>4</th>\n",
       "      <td>AFG</td>\n",
       "      <td>Noor Ahmad (AFG)</td>\n",
       "      <td>bowl</td>\n",
       "      <td>60</td>\n",
       "      <td>49</td>\n",
       "      <td>3.0</td>\n",
       "      <td>0.05</td>\n",
       "      <td>0.816667</td>\n",
       "      <td>v Pakistan</td>\n",
       "      <td>Chennai</td>\n",
       "      <td>23-Oct-23</td>\n",
       "      <td>10.0</td>\n",
       "      <td>0.0</td>\n",
       "      <td>4.90</td>\n",
       "      <td>1</td>\n",
       "      <td>NaN</td>\n",
       "      <td>NaN</td>\n",
       "      <td>NaN</td>\n",
       "      <td>NaN</td>\n",
       "      <td>NaN</td>\n",
       "    </tr>\n",
       "    <tr>\n",
       "      <th>...</th>\n",
       "      <td>...</td>\n",
       "      <td>...</td>\n",
       "      <td>...</td>\n",
       "      <td>...</td>\n",
       "      <td>...</td>\n",
       "      <td>...</td>\n",
       "      <td>...</td>\n",
       "      <td>...</td>\n",
       "      <td>...</td>\n",
       "      <td>...</td>\n",
       "      <td>...</td>\n",
       "      <td>...</td>\n",
       "      <td>...</td>\n",
       "      <td>...</td>\n",
       "      <td>...</td>\n",
       "      <td>...</td>\n",
       "      <td>...</td>\n",
       "      <td>...</td>\n",
       "      <td>...</td>\n",
       "      <td>...</td>\n",
       "    </tr>\n",
       "    <tr>\n",
       "      <th>1403</th>\n",
       "      <td>NZ</td>\n",
       "      <td>MJ Santner (NZ)</td>\n",
       "      <td>bowl</td>\n",
       "      <td>60</td>\n",
       "      <td>51</td>\n",
       "      <td>0.0</td>\n",
       "      <td>0.00</td>\n",
       "      <td>0.850000</td>\n",
       "      <td>v India</td>\n",
       "      <td>Wankhede</td>\n",
       "      <td>15-Nov-23</td>\n",
       "      <td>10.0</td>\n",
       "      <td>1.0</td>\n",
       "      <td>5.10</td>\n",
       "      <td>1</td>\n",
       "      <td>NaN</td>\n",
       "      <td>NaN</td>\n",
       "      <td>NaN</td>\n",
       "      <td>NaN</td>\n",
       "      <td>NaN</td>\n",
       "    </tr>\n",
       "    <tr>\n",
       "      <th>1404</th>\n",
       "      <td>AUS</td>\n",
       "      <td>A Zampa (AUS)</td>\n",
       "      <td>bowl</td>\n",
       "      <td>42</td>\n",
       "      <td>55</td>\n",
       "      <td>0.0</td>\n",
       "      <td>0.00</td>\n",
       "      <td>1.309524</td>\n",
       "      <td>v South Africa</td>\n",
       "      <td>Eden Gardens</td>\n",
       "      <td>16-Nov-23</td>\n",
       "      <td>7.0</td>\n",
       "      <td>0.0</td>\n",
       "      <td>7.85</td>\n",
       "      <td>1</td>\n",
       "      <td>NaN</td>\n",
       "      <td>NaN</td>\n",
       "      <td>NaN</td>\n",
       "      <td>NaN</td>\n",
       "      <td>NaN</td>\n",
       "    </tr>\n",
       "    <tr>\n",
       "      <th>1405</th>\n",
       "      <td>NZ</td>\n",
       "      <td>R Ravindra (NZ)</td>\n",
       "      <td>bowl</td>\n",
       "      <td>42</td>\n",
       "      <td>60</td>\n",
       "      <td>0.0</td>\n",
       "      <td>0.00</td>\n",
       "      <td>1.428571</td>\n",
       "      <td>v India</td>\n",
       "      <td>Wankhede</td>\n",
       "      <td>15-Nov-23</td>\n",
       "      <td>7.0</td>\n",
       "      <td>0.0</td>\n",
       "      <td>8.57</td>\n",
       "      <td>1</td>\n",
       "      <td>NaN</td>\n",
       "      <td>NaN</td>\n",
       "      <td>NaN</td>\n",
       "      <td>NaN</td>\n",
       "      <td>NaN</td>\n",
       "    </tr>\n",
       "    <tr>\n",
       "      <th>1406</th>\n",
       "      <td>IND</td>\n",
       "      <td>RA Jadeja (IND)</td>\n",
       "      <td>bowl</td>\n",
       "      <td>60</td>\n",
       "      <td>63</td>\n",
       "      <td>0.0</td>\n",
       "      <td>0.00</td>\n",
       "      <td>1.050000</td>\n",
       "      <td>v New Zealand</td>\n",
       "      <td>Wankhede</td>\n",
       "      <td>15-Nov-23</td>\n",
       "      <td>10.0</td>\n",
       "      <td>0.0</td>\n",
       "      <td>6.30</td>\n",
       "      <td>2</td>\n",
       "      <td>NaN</td>\n",
       "      <td>NaN</td>\n",
       "      <td>NaN</td>\n",
       "      <td>NaN</td>\n",
       "      <td>NaN</td>\n",
       "    </tr>\n",
       "    <tr>\n",
       "      <th>1407</th>\n",
       "      <td>NZ</td>\n",
       "      <td>LH Ferguson (NZ)</td>\n",
       "      <td>bowl</td>\n",
       "      <td>48</td>\n",
       "      <td>65</td>\n",
       "      <td>0.0</td>\n",
       "      <td>0.00</td>\n",
       "      <td>1.354167</td>\n",
       "      <td>v India</td>\n",
       "      <td>Wankhede</td>\n",
       "      <td>15-Nov-23</td>\n",
       "      <td>8.0</td>\n",
       "      <td>0.0</td>\n",
       "      <td>8.12</td>\n",
       "      <td>1</td>\n",
       "      <td>NaN</td>\n",
       "      <td>NaN</td>\n",
       "      <td>NaN</td>\n",
       "      <td>NaN</td>\n",
       "      <td>NaN</td>\n",
       "    </tr>\n",
       "  </tbody>\n",
       "</table>\n",
       "<p>1408 rows × 20 columns</p>\n",
       "</div>"
      ],
      "text/plain": [
       "     team                     player bat_or_bowl  bb_bf  runs  wkts  \\\n",
       "0     PAK  Shaheen Shah Afridi (PAK)        bowl     60    45   3.0   \n",
       "1     ENG            DJ Willey (ENG)        bowl     60    45   3.0   \n",
       "2      NZ              MJ Henry (NZ)        bowl     60    48   3.0   \n",
       "3      NZ           LH Ferguson (NZ)        bowl     60    49   3.0   \n",
       "4     AFG           Noor Ahmad (AFG)        bowl     60    49   3.0   \n",
       "...   ...                        ...         ...    ...   ...   ...   \n",
       "1403   NZ            MJ Santner (NZ)        bowl     60    51   0.0   \n",
       "1404  AUS              A Zampa (AUS)        bowl     42    55   0.0   \n",
       "1405   NZ            R Ravindra (NZ)        bowl     42    60   0.0   \n",
       "1406  IND            RA Jadeja (IND)        bowl     60    63   0.0   \n",
       "1407   NZ           LH Ferguson (NZ)        bowl     48    65   0.0   \n",
       "\n",
       "      wicketball_prob  runs_per_ball      opposition        ground start_date  \\\n",
       "0                0.05       0.750000  v South Africa       Chennai  27-Oct-23   \n",
       "1                0.05       0.750000         v India       Lucknow  29-Oct-23   \n",
       "2                0.05       0.800000       v England     Ahmedabad   5-Oct-23   \n",
       "3                0.05       0.816667    v Bangladesh       Chennai  13-Oct-23   \n",
       "4                0.05       0.816667      v Pakistan       Chennai  23-Oct-23   \n",
       "...               ...            ...             ...           ...        ...   \n",
       "1403             0.00       0.850000         v India      Wankhede  15-Nov-23   \n",
       "1404             0.00       1.309524  v South Africa  Eden Gardens  16-Nov-23   \n",
       "1405             0.00       1.428571         v India      Wankhede  15-Nov-23   \n",
       "1406             0.00       1.050000   v New Zealand      Wankhede  15-Nov-23   \n",
       "1407             0.00       1.354167         v India      Wankhede  15-Nov-23   \n",
       "\n",
       "      overs  mdns  econ  inns  4s  6s  sr  not_out  mins  \n",
       "0      10.0   0.0  4.50     2 NaN NaN NaN      NaN   NaN  \n",
       "1      10.0   2.0  4.50     1 NaN NaN NaN      NaN   NaN  \n",
       "2      10.0   1.0  4.80     1 NaN NaN NaN      NaN   NaN  \n",
       "3      10.0   0.0  4.90     1 NaN NaN NaN      NaN   NaN  \n",
       "4      10.0   0.0  4.90     1 NaN NaN NaN      NaN   NaN  \n",
       "...     ...   ...   ...   ...  ..  ..  ..      ...   ...  \n",
       "1403   10.0   1.0  5.10     1 NaN NaN NaN      NaN   NaN  \n",
       "1404    7.0   0.0  7.85     1 NaN NaN NaN      NaN   NaN  \n",
       "1405    7.0   0.0  8.57     1 NaN NaN NaN      NaN   NaN  \n",
       "1406   10.0   0.0  6.30     2 NaN NaN NaN      NaN   NaN  \n",
       "1407    8.0   0.0  8.12     1 NaN NaN NaN      NaN   NaN  \n",
       "\n",
       "[1408 rows x 20 columns]"
      ]
     },
     "execution_count": 2,
     "metadata": {},
     "output_type": "execute_result"
    }
   ],
   "source": [
    "# Load the dataset\n",
    "df = pd.read_csv(\"CWC23_all_innings.csv\")\n",
    "df"
   ]
  },
  {
   "cell_type": "code",
   "execution_count": 3,
   "metadata": {},
   "outputs": [
    {
     "name": "stdout",
     "output_type": "stream",
     "text": [
      "<class 'pandas.core.frame.DataFrame'>\n",
      "RangeIndex: 1408 entries, 0 to 1407\n",
      "Data columns (total 20 columns):\n",
      " #   Column           Non-Null Count  Dtype  \n",
      "---  ------           --------------  -----  \n",
      " 0   team             1408 non-null   object \n",
      " 1   player           1408 non-null   object \n",
      " 2   bat_or_bowl      1408 non-null   object \n",
      " 3   bb_bf            1408 non-null   int64  \n",
      " 4   runs             1408 non-null   int64  \n",
      " 5   wkts             562 non-null    float64\n",
      " 6   wicketball_prob  1408 non-null   float64\n",
      " 7   runs_per_ball    1408 non-null   float64\n",
      " 8   opposition       1408 non-null   object \n",
      " 9   ground           1408 non-null   object \n",
      " 10  start_date       1408 non-null   object \n",
      " 11  overs            562 non-null    float64\n",
      " 12  mdns             562 non-null    float64\n",
      " 13  econ             562 non-null    float64\n",
      " 14  inns             1408 non-null   int64  \n",
      " 15  4s               846 non-null    float64\n",
      " 16  6s               846 non-null    float64\n",
      " 17  sr               846 non-null    float64\n",
      " 18  not_out          846 non-null    float64\n",
      " 19  mins             846 non-null    float64\n",
      "dtypes: float64(11), int64(3), object(6)\n",
      "memory usage: 220.1+ KB\n",
      "None\n"
     ]
    }
   ],
   "source": [
    "# Display basic information about the dataset\n",
    "print(df.info())"
   ]
  },
  {
   "cell_type": "code",
   "execution_count": 4,
   "metadata": {},
   "outputs": [],
   "source": [
    "# Check for null values in the dataset\n",
    "null_values = df.isnull().sum()"
   ]
  },
  {
   "cell_type": "code",
   "execution_count": 5,
   "metadata": {},
   "outputs": [
    {
     "name": "stdout",
     "output_type": "stream",
     "text": [
      "Columns with null values:\n",
      "wkts       846\n",
      "overs      846\n",
      "mdns       846\n",
      "econ       846\n",
      "4s         562\n",
      "6s         562\n",
      "sr         562\n",
      "not_out    562\n",
      "mins       562\n",
      "dtype: int64\n"
     ]
    }
   ],
   "source": [
    "# Display columns with null values, if any\n",
    "print(\"Columns with null values:\")\n",
    "print(null_values[null_values > 0])"
   ]
  },
  {
   "cell_type": "code",
   "execution_count": 6,
   "metadata": {},
   "outputs": [
    {
     "name": "stdout",
     "output_type": "stream",
     "text": [
      "['bowl' 'bat']\n"
     ]
    }
   ],
   "source": [
    "# Check the unique values in the 'bat_or_bowl' column\n",
    "print(df['bat_or_bowl'].unique())"
   ]
  },
  {
   "cell_type": "code",
   "execution_count": 7,
   "metadata": {},
   "outputs": [],
   "source": [
    "# Filter the dataset for records where players bowled\n",
    "bowling_data = df[df['bat_or_bowl'] == 'bowl']\n"
   ]
  },
  {
   "cell_type": "code",
   "execution_count": 8,
   "metadata": {},
   "outputs": [
    {
     "name": "stdout",
     "output_type": "stream",
     "text": [
      "Null values in bowling data:\n",
      "4s         562\n",
      "6s         562\n",
      "sr         562\n",
      "not_out    562\n",
      "mins       562\n",
      "dtype: int64\n"
     ]
    }
   ],
   "source": [
    "# Check for null values in the bowling data\n",
    "bowling_null_values = bowling_data.isnull().sum()\n",
    "print(\"Null values in bowling data:\")\n",
    "print(bowling_null_values[bowling_null_values > 0])"
   ]
  },
  {
   "cell_type": "code",
   "execution_count": 9,
   "metadata": {},
   "outputs": [],
   "source": [
    "# Filter the dataset for records where players batted\n",
    "batting_data = df[df['bat_or_bowl'] == 'bat']"
   ]
  },
  {
   "cell_type": "code",
   "execution_count": 10,
   "metadata": {},
   "outputs": [
    {
     "name": "stdout",
     "output_type": "stream",
     "text": [
      "\n",
      "Null values in batting data:\n",
      "wkts     846\n",
      "overs    846\n",
      "mdns     846\n",
      "econ     846\n",
      "dtype: int64\n"
     ]
    }
   ],
   "source": [
    "# Check for null values in the batting data\n",
    "batting_null_values = batting_data.isnull().sum()\n",
    "print(\"\\nNull values in batting data:\")\n",
    "print(batting_null_values[batting_null_values > 0])"
   ]
  },
  {
   "cell_type": "code",
   "execution_count": 11,
   "metadata": {},
   "outputs": [],
   "source": [
    "# Fill null values in bowling data with zeros using loc\n",
    "df.loc[df['bat_or_bowl'] == 'bowl', ['4s', '6s', 'sr', 'not_out', 'mins']] = \\\n",
    "    df.loc[df['bat_or_bowl'] == 'bowl', ['4s', '6s', 'sr', 'not_out', 'mins']].fillna(0)\n"
   ]
  },
  {
   "cell_type": "code",
   "execution_count": 12,
   "metadata": {},
   "outputs": [],
   "source": [
    "# Fill null values in batting data with zeros using loc\n",
    "df.loc[df['bat_or_bowl'] == 'bat', ['wkts', 'overs', 'mdns', 'econ']] = \\\n",
    "    df.loc[df['bat_or_bowl'] == 'bat', ['wkts', 'overs', 'mdns', 'econ']].fillna(0)"
   ]
  },
  {
   "cell_type": "code",
   "execution_count": 13,
   "metadata": {},
   "outputs": [
    {
     "data": {
      "text/html": [
       "<div>\n",
       "<style scoped>\n",
       "    .dataframe tbody tr th:only-of-type {\n",
       "        vertical-align: middle;\n",
       "    }\n",
       "\n",
       "    .dataframe tbody tr th {\n",
       "        vertical-align: top;\n",
       "    }\n",
       "\n",
       "    .dataframe thead th {\n",
       "        text-align: right;\n",
       "    }\n",
       "</style>\n",
       "<table border=\"1\" class=\"dataframe\">\n",
       "  <thead>\n",
       "    <tr style=\"text-align: right;\">\n",
       "      <th></th>\n",
       "      <th>team</th>\n",
       "      <th>player</th>\n",
       "      <th>bat_or_bowl</th>\n",
       "      <th>bb_bf</th>\n",
       "      <th>runs</th>\n",
       "      <th>wkts</th>\n",
       "      <th>wicketball_prob</th>\n",
       "      <th>runs_per_ball</th>\n",
       "      <th>opposition</th>\n",
       "      <th>ground</th>\n",
       "      <th>start_date</th>\n",
       "      <th>overs</th>\n",
       "      <th>mdns</th>\n",
       "      <th>econ</th>\n",
       "      <th>inns</th>\n",
       "      <th>4s</th>\n",
       "      <th>6s</th>\n",
       "      <th>sr</th>\n",
       "      <th>not_out</th>\n",
       "      <th>mins</th>\n",
       "    </tr>\n",
       "  </thead>\n",
       "  <tbody>\n",
       "    <tr>\n",
       "      <th>0</th>\n",
       "      <td>PAK</td>\n",
       "      <td>Shaheen Shah Afridi (PAK)</td>\n",
       "      <td>bowl</td>\n",
       "      <td>60</td>\n",
       "      <td>45</td>\n",
       "      <td>3.0</td>\n",
       "      <td>0.05</td>\n",
       "      <td>0.750000</td>\n",
       "      <td>v South Africa</td>\n",
       "      <td>Chennai</td>\n",
       "      <td>27-Oct-23</td>\n",
       "      <td>10.0</td>\n",
       "      <td>0.0</td>\n",
       "      <td>4.50</td>\n",
       "      <td>2</td>\n",
       "      <td>0.0</td>\n",
       "      <td>0.0</td>\n",
       "      <td>0.0</td>\n",
       "      <td>0.0</td>\n",
       "      <td>0.0</td>\n",
       "    </tr>\n",
       "    <tr>\n",
       "      <th>1</th>\n",
       "      <td>ENG</td>\n",
       "      <td>DJ Willey (ENG)</td>\n",
       "      <td>bowl</td>\n",
       "      <td>60</td>\n",
       "      <td>45</td>\n",
       "      <td>3.0</td>\n",
       "      <td>0.05</td>\n",
       "      <td>0.750000</td>\n",
       "      <td>v India</td>\n",
       "      <td>Lucknow</td>\n",
       "      <td>29-Oct-23</td>\n",
       "      <td>10.0</td>\n",
       "      <td>2.0</td>\n",
       "      <td>4.50</td>\n",
       "      <td>1</td>\n",
       "      <td>0.0</td>\n",
       "      <td>0.0</td>\n",
       "      <td>0.0</td>\n",
       "      <td>0.0</td>\n",
       "      <td>0.0</td>\n",
       "    </tr>\n",
       "    <tr>\n",
       "      <th>2</th>\n",
       "      <td>NZ</td>\n",
       "      <td>MJ Henry (NZ)</td>\n",
       "      <td>bowl</td>\n",
       "      <td>60</td>\n",
       "      <td>48</td>\n",
       "      <td>3.0</td>\n",
       "      <td>0.05</td>\n",
       "      <td>0.800000</td>\n",
       "      <td>v England</td>\n",
       "      <td>Ahmedabad</td>\n",
       "      <td>5-Oct-23</td>\n",
       "      <td>10.0</td>\n",
       "      <td>1.0</td>\n",
       "      <td>4.80</td>\n",
       "      <td>1</td>\n",
       "      <td>0.0</td>\n",
       "      <td>0.0</td>\n",
       "      <td>0.0</td>\n",
       "      <td>0.0</td>\n",
       "      <td>0.0</td>\n",
       "    </tr>\n",
       "    <tr>\n",
       "      <th>3</th>\n",
       "      <td>NZ</td>\n",
       "      <td>LH Ferguson (NZ)</td>\n",
       "      <td>bowl</td>\n",
       "      <td>60</td>\n",
       "      <td>49</td>\n",
       "      <td>3.0</td>\n",
       "      <td>0.05</td>\n",
       "      <td>0.816667</td>\n",
       "      <td>v Bangladesh</td>\n",
       "      <td>Chennai</td>\n",
       "      <td>13-Oct-23</td>\n",
       "      <td>10.0</td>\n",
       "      <td>0.0</td>\n",
       "      <td>4.90</td>\n",
       "      <td>1</td>\n",
       "      <td>0.0</td>\n",
       "      <td>0.0</td>\n",
       "      <td>0.0</td>\n",
       "      <td>0.0</td>\n",
       "      <td>0.0</td>\n",
       "    </tr>\n",
       "    <tr>\n",
       "      <th>4</th>\n",
       "      <td>AFG</td>\n",
       "      <td>Noor Ahmad (AFG)</td>\n",
       "      <td>bowl</td>\n",
       "      <td>60</td>\n",
       "      <td>49</td>\n",
       "      <td>3.0</td>\n",
       "      <td>0.05</td>\n",
       "      <td>0.816667</td>\n",
       "      <td>v Pakistan</td>\n",
       "      <td>Chennai</td>\n",
       "      <td>23-Oct-23</td>\n",
       "      <td>10.0</td>\n",
       "      <td>0.0</td>\n",
       "      <td>4.90</td>\n",
       "      <td>1</td>\n",
       "      <td>0.0</td>\n",
       "      <td>0.0</td>\n",
       "      <td>0.0</td>\n",
       "      <td>0.0</td>\n",
       "      <td>0.0</td>\n",
       "    </tr>\n",
       "    <tr>\n",
       "      <th>...</th>\n",
       "      <td>...</td>\n",
       "      <td>...</td>\n",
       "      <td>...</td>\n",
       "      <td>...</td>\n",
       "      <td>...</td>\n",
       "      <td>...</td>\n",
       "      <td>...</td>\n",
       "      <td>...</td>\n",
       "      <td>...</td>\n",
       "      <td>...</td>\n",
       "      <td>...</td>\n",
       "      <td>...</td>\n",
       "      <td>...</td>\n",
       "      <td>...</td>\n",
       "      <td>...</td>\n",
       "      <td>...</td>\n",
       "      <td>...</td>\n",
       "      <td>...</td>\n",
       "      <td>...</td>\n",
       "      <td>...</td>\n",
       "    </tr>\n",
       "    <tr>\n",
       "      <th>1403</th>\n",
       "      <td>NZ</td>\n",
       "      <td>MJ Santner (NZ)</td>\n",
       "      <td>bowl</td>\n",
       "      <td>60</td>\n",
       "      <td>51</td>\n",
       "      <td>0.0</td>\n",
       "      <td>0.00</td>\n",
       "      <td>0.850000</td>\n",
       "      <td>v India</td>\n",
       "      <td>Wankhede</td>\n",
       "      <td>15-Nov-23</td>\n",
       "      <td>10.0</td>\n",
       "      <td>1.0</td>\n",
       "      <td>5.10</td>\n",
       "      <td>1</td>\n",
       "      <td>0.0</td>\n",
       "      <td>0.0</td>\n",
       "      <td>0.0</td>\n",
       "      <td>0.0</td>\n",
       "      <td>0.0</td>\n",
       "    </tr>\n",
       "    <tr>\n",
       "      <th>1404</th>\n",
       "      <td>AUS</td>\n",
       "      <td>A Zampa (AUS)</td>\n",
       "      <td>bowl</td>\n",
       "      <td>42</td>\n",
       "      <td>55</td>\n",
       "      <td>0.0</td>\n",
       "      <td>0.00</td>\n",
       "      <td>1.309524</td>\n",
       "      <td>v South Africa</td>\n",
       "      <td>Eden Gardens</td>\n",
       "      <td>16-Nov-23</td>\n",
       "      <td>7.0</td>\n",
       "      <td>0.0</td>\n",
       "      <td>7.85</td>\n",
       "      <td>1</td>\n",
       "      <td>0.0</td>\n",
       "      <td>0.0</td>\n",
       "      <td>0.0</td>\n",
       "      <td>0.0</td>\n",
       "      <td>0.0</td>\n",
       "    </tr>\n",
       "    <tr>\n",
       "      <th>1405</th>\n",
       "      <td>NZ</td>\n",
       "      <td>R Ravindra (NZ)</td>\n",
       "      <td>bowl</td>\n",
       "      <td>42</td>\n",
       "      <td>60</td>\n",
       "      <td>0.0</td>\n",
       "      <td>0.00</td>\n",
       "      <td>1.428571</td>\n",
       "      <td>v India</td>\n",
       "      <td>Wankhede</td>\n",
       "      <td>15-Nov-23</td>\n",
       "      <td>7.0</td>\n",
       "      <td>0.0</td>\n",
       "      <td>8.57</td>\n",
       "      <td>1</td>\n",
       "      <td>0.0</td>\n",
       "      <td>0.0</td>\n",
       "      <td>0.0</td>\n",
       "      <td>0.0</td>\n",
       "      <td>0.0</td>\n",
       "    </tr>\n",
       "    <tr>\n",
       "      <th>1406</th>\n",
       "      <td>IND</td>\n",
       "      <td>RA Jadeja (IND)</td>\n",
       "      <td>bowl</td>\n",
       "      <td>60</td>\n",
       "      <td>63</td>\n",
       "      <td>0.0</td>\n",
       "      <td>0.00</td>\n",
       "      <td>1.050000</td>\n",
       "      <td>v New Zealand</td>\n",
       "      <td>Wankhede</td>\n",
       "      <td>15-Nov-23</td>\n",
       "      <td>10.0</td>\n",
       "      <td>0.0</td>\n",
       "      <td>6.30</td>\n",
       "      <td>2</td>\n",
       "      <td>0.0</td>\n",
       "      <td>0.0</td>\n",
       "      <td>0.0</td>\n",
       "      <td>0.0</td>\n",
       "      <td>0.0</td>\n",
       "    </tr>\n",
       "    <tr>\n",
       "      <th>1407</th>\n",
       "      <td>NZ</td>\n",
       "      <td>LH Ferguson (NZ)</td>\n",
       "      <td>bowl</td>\n",
       "      <td>48</td>\n",
       "      <td>65</td>\n",
       "      <td>0.0</td>\n",
       "      <td>0.00</td>\n",
       "      <td>1.354167</td>\n",
       "      <td>v India</td>\n",
       "      <td>Wankhede</td>\n",
       "      <td>15-Nov-23</td>\n",
       "      <td>8.0</td>\n",
       "      <td>0.0</td>\n",
       "      <td>8.12</td>\n",
       "      <td>1</td>\n",
       "      <td>0.0</td>\n",
       "      <td>0.0</td>\n",
       "      <td>0.0</td>\n",
       "      <td>0.0</td>\n",
       "      <td>0.0</td>\n",
       "    </tr>\n",
       "  </tbody>\n",
       "</table>\n",
       "<p>1408 rows × 20 columns</p>\n",
       "</div>"
      ],
      "text/plain": [
       "     team                     player bat_or_bowl  bb_bf  runs  wkts  \\\n",
       "0     PAK  Shaheen Shah Afridi (PAK)        bowl     60    45   3.0   \n",
       "1     ENG            DJ Willey (ENG)        bowl     60    45   3.0   \n",
       "2      NZ              MJ Henry (NZ)        bowl     60    48   3.0   \n",
       "3      NZ           LH Ferguson (NZ)        bowl     60    49   3.0   \n",
       "4     AFG           Noor Ahmad (AFG)        bowl     60    49   3.0   \n",
       "...   ...                        ...         ...    ...   ...   ...   \n",
       "1403   NZ            MJ Santner (NZ)        bowl     60    51   0.0   \n",
       "1404  AUS              A Zampa (AUS)        bowl     42    55   0.0   \n",
       "1405   NZ            R Ravindra (NZ)        bowl     42    60   0.0   \n",
       "1406  IND            RA Jadeja (IND)        bowl     60    63   0.0   \n",
       "1407   NZ           LH Ferguson (NZ)        bowl     48    65   0.0   \n",
       "\n",
       "      wicketball_prob  runs_per_ball      opposition        ground start_date  \\\n",
       "0                0.05       0.750000  v South Africa       Chennai  27-Oct-23   \n",
       "1                0.05       0.750000         v India       Lucknow  29-Oct-23   \n",
       "2                0.05       0.800000       v England     Ahmedabad   5-Oct-23   \n",
       "3                0.05       0.816667    v Bangladesh       Chennai  13-Oct-23   \n",
       "4                0.05       0.816667      v Pakistan       Chennai  23-Oct-23   \n",
       "...               ...            ...             ...           ...        ...   \n",
       "1403             0.00       0.850000         v India      Wankhede  15-Nov-23   \n",
       "1404             0.00       1.309524  v South Africa  Eden Gardens  16-Nov-23   \n",
       "1405             0.00       1.428571         v India      Wankhede  15-Nov-23   \n",
       "1406             0.00       1.050000   v New Zealand      Wankhede  15-Nov-23   \n",
       "1407             0.00       1.354167         v India      Wankhede  15-Nov-23   \n",
       "\n",
       "      overs  mdns  econ  inns   4s   6s   sr  not_out  mins  \n",
       "0      10.0   0.0  4.50     2  0.0  0.0  0.0      0.0   0.0  \n",
       "1      10.0   2.0  4.50     1  0.0  0.0  0.0      0.0   0.0  \n",
       "2      10.0   1.0  4.80     1  0.0  0.0  0.0      0.0   0.0  \n",
       "3      10.0   0.0  4.90     1  0.0  0.0  0.0      0.0   0.0  \n",
       "4      10.0   0.0  4.90     1  0.0  0.0  0.0      0.0   0.0  \n",
       "...     ...   ...   ...   ...  ...  ...  ...      ...   ...  \n",
       "1403   10.0   1.0  5.10     1  0.0  0.0  0.0      0.0   0.0  \n",
       "1404    7.0   0.0  7.85     1  0.0  0.0  0.0      0.0   0.0  \n",
       "1405    7.0   0.0  8.57     1  0.0  0.0  0.0      0.0   0.0  \n",
       "1406   10.0   0.0  6.30     2  0.0  0.0  0.0      0.0   0.0  \n",
       "1407    8.0   0.0  8.12     1  0.0  0.0  0.0      0.0   0.0  \n",
       "\n",
       "[1408 rows x 20 columns]"
      ]
     },
     "execution_count": 13,
     "metadata": {},
     "output_type": "execute_result"
    }
   ],
   "source": [
    "df"
   ]
  },
  {
   "cell_type": "code",
   "execution_count": 14,
   "metadata": {},
   "outputs": [],
   "source": [
    "# Check for null values in the dataset\n",
    "null_values = df.isnull().sum()"
   ]
  },
  {
   "cell_type": "code",
   "execution_count": 15,
   "metadata": {},
   "outputs": [
    {
     "name": "stdout",
     "output_type": "stream",
     "text": [
      "Columns with null values:\n",
      "Series([], dtype: int64)\n"
     ]
    }
   ],
   "source": [
    "# Display columns with null values, if any\n",
    "print(\"Columns with null values:\")\n",
    "print(null_values[null_values > 0])"
   ]
  },
  {
   "cell_type": "markdown",
   "metadata": {},
   "source": [
    "# Data Analysis\n"
   ]
  },
  {
   "cell_type": "code",
   "execution_count": 16,
   "metadata": {},
   "outputs": [],
   "source": [
    "# Calculate total runs scored and wickets taken for each team\n",
    "team_performance = df.groupby('team').agg({'runs': 'sum', 'wkts': 'sum', 'inns': 'count'})\n"
   ]
  },
  {
   "cell_type": "code",
   "execution_count": 17,
   "metadata": {},
   "outputs": [],
   "source": [
    "# Calculate average runs scored and wickets taken per match\n",
    "team_performance['avg_runs_per_match'] = team_performance['runs'] / team_performance['inns']\n",
    "team_performance['avg_wkts_per_match'] = team_performance['wkts'] / team_performance['inns']\n"
   ]
  },
  {
   "cell_type": "code",
   "execution_count": 18,
   "metadata": {},
   "outputs": [
    {
     "name": "stdout",
     "output_type": "stream",
     "text": [
      "      runs  wkts  inns  avg_runs_per_match  avg_wkts_per_match\n",
      "team                                                          \n",
      "AFG   4134  53.0   129           32.046512            0.410853\n",
      "AUS   5234  77.0   155           33.767742            0.496774\n",
      "BAN   4358  51.0   141           30.907801            0.361702\n",
      "ENG   4396  65.0   151           29.112583            0.430464\n",
      "IND   4783  94.0   124           38.572581            0.758065\n",
      "NED   4268  63.0   157           27.184713            0.401274\n",
      "NZ    5376  71.0   144           37.333333            0.493056\n",
      "PAK   4786  65.0   128           37.390625            0.507812\n",
      "SA    5097  88.0   141           36.148936            0.624113\n",
      "SL    4366  50.0   138           31.637681            0.362319\n"
     ]
    }
   ],
   "source": [
    "# Display team-wise performance metrics\n",
    "print(team_performance)"
   ]
  },
  {
   "cell_type": "code",
   "execution_count": 19,
   "metadata": {},
   "outputs": [
    {
     "data": {
      "image/png": "[encoded data removed]",
      "text/plain": [
       "<Figure size 720x432 with 1 Axes>"
      ]
     },
     "metadata": {
      "needs_background": "light"
     },
     "output_type": "display_data"
    }
   ],
   "source": [
    "# Plotting total runs scored by each team\n",
    "plt.figure(figsize=(10, 6))\n",
    "team_performance['runs'].plot(kind='bar', color='skyblue')\n",
    "plt.title('Total Runs Scored by Each Team')\n",
    "plt.xlabel('Team')\n",
    "plt.ylabel('Total Runs')\n",
    "plt.xticks(rotation=45)\n",
    "plt.grid(axis='y')\n",
    "plt.tight_layout()\n",
    "plt.show()\n"
   ]
  },
  {
   "cell_type": "code",
   "execution_count": 20,
   "metadata": {},
   "outputs": [
    {
     "data": {
      "image/png": "[encoded data removed]",
      "text/plain": [
       "<Figure size 720x432 with 1 Axes>"
      ]
     },
     "metadata": {
      "needs_background": "light"
     },
     "output_type": "display_data"
    }
   ],
   "source": [
    "# Plotting total wickets taken by each team\n",
    "plt.figure(figsize=(10, 6))\n",
    "team_performance['wkts'].plot(kind='bar', color='lightgreen')\n",
    "plt.title('Total Wickets Taken by Each Team')\n",
    "plt.xlabel('Team')\n",
    "plt.ylabel('Total Wickets')\n",
    "plt.xticks(rotation=45)\n",
    "plt.grid(axis='y')\n",
    "plt.tight_layout()\n",
    "plt.show()"
   ]
  },
  {
   "cell_type": "code",
   "execution_count": 21,
   "metadata": {},
   "outputs": [],
   "source": [
    "# Batting statistics\n",
    "batting_stats = df[df['bat_or_bowl'] == 'bat'].groupby('player').agg({\n",
    "    'runs': 'sum',\n",
    "    '4s': 'sum',\n",
    "    '6s': 'sum',\n",
    "    'sr': 'mean',\n",
    "    'not_out': 'sum'\n",
    "}).reset_index()"
   ]
  },
  {
   "cell_type": "code",
   "execution_count": 22,
   "metadata": {},
   "outputs": [],
   "source": [
    "# Bowling statistics\n",
    "bowling_stats = df[df['bat_or_bowl'] == 'bowl'].groupby('player').agg({\n",
    "    'wkts': 'sum',\n",
    "    'overs': 'sum',\n",
    "    'mdns': 'sum',\n",
    "    'econ': 'mean'\n",
    "}).reset_index()"
   ]
  },
  {
   "cell_type": "code",
   "execution_count": 23,
   "metadata": {},
   "outputs": [],
   "source": [
    "# Merging batting and bowling statistics\n",
    "player_stats = pd.merge(batting_stats, bowling_stats, on='player', how='outer')\n"
   ]
  },
  {
   "cell_type": "code",
   "execution_count": 24,
   "metadata": {},
   "outputs": [],
   "source": [
    "# Calculating batting average\n",
    "player_stats['batting_avg'] = player_stats['runs'] / (player_stats['not_out'] + 1)\n"
   ]
  },
  {
   "cell_type": "code",
   "execution_count": 25,
   "metadata": {},
   "outputs": [],
   "source": [
    "# Identifying leading run-scorers and wicket-takers\n",
    "leading_run_scorers = player_stats.nlargest(10, 'runs')\n",
    "leading_wicket_takers = player_stats.nlargest(10, 'wkts')\n"
   ]
  },
  {
   "cell_type": "code",
   "execution_count": 26,
   "metadata": {},
   "outputs": [],
   "source": [
    "# Assessing impact on team's performance (Example: using batting average and economy rate)\n",
    "player_stats['impact'] = (player_stats['batting_avg'] * 0.6) + ((1 / player_stats['econ']) * 0.4)\n"
   ]
  },
  {
   "cell_type": "code",
   "execution_count": 27,
   "metadata": {},
   "outputs": [],
   "source": [
    "# Identifying top players based on impact\n",
    "top_players = player_stats.nlargest(10, 'impact')\n"
   ]
  },
  {
   "cell_type": "code",
   "execution_count": 28,
   "metadata": {},
   "outputs": [
    {
     "name": "stdout",
     "output_type": "stream",
     "text": [
      "Leading Run-Scorers:\n",
      "                     player   runs\n",
      "142           V Kohli (IND)  711.0\n",
      "104          Q de Kock (SA)  594.0\n",
      "106         R Ravindra (NZ)  578.0\n",
      "26         DJ Mitchell (NZ)  552.0\n",
      "109         RG Sharma (IND)  550.0\n",
      "24          DA Warner (AUS)  528.0\n",
      "122           SS Iyer (IND)  526.0\n",
      "39   HE van der Dussen (SA)  448.0\n",
      "82           MR Marsh (AUS)  426.0\n",
      "4           AK Markram (SA)  406.0\n",
      "\n",
      "Leading Wicket-Takers:\n",
      "                        player  wkts\n",
      "91        Mohammed Shami (IND)  23.0\n",
      "1                A Zampa (AUS)  22.0\n",
      "22           D Madushanka (SL)  21.0\n",
      "34              G Coetzee (SA)  20.0\n",
      "53             JJ Bumrah (IND)  18.0\n",
      "126  Shaheen Shah Afridi (PAK)  18.0\n",
      "68               M Jansen (SA)  17.0\n",
      "13          BFW de Leede (NED)  16.0\n",
      "41            Haris Rauf (PAK)  16.0\n",
      "78             MJ Santner (NZ)  16.0\n",
      "\n",
      "Top Players Based on Impact:\n",
      "                       player      impact\n",
      "109           RG Sharma (IND)  330.047619\n",
      "106           R Ravindra (NZ)  173.464068\n",
      "59          KIC Asalanka (SL)  172.840000\n",
      "52              JE Root (ENG)  165.663847\n",
      "26           DJ Mitchell (NZ)  165.661538\n",
      "20         CN Ackermann (NED)  129.676677\n",
      "82             MR Marsh (AUS)  127.850394\n",
      "4             AK Markram (SA)  121.872993\n",
      "86   Mehidy Hasan Miraz (BAN)  120.669781\n",
      "135             TM Head (AUS)  115.278818\n"
     ]
    }
   ],
   "source": [
    "# Displaying the results\n",
    "print(\"Leading Run-Scorers:\")\n",
    "print(leading_run_scorers[['player', 'runs']])\n",
    "print(\"\\nLeading Wicket-Takers:\")\n",
    "print(leading_wicket_takers[['player', 'wkts']])\n",
    "print(\"\\nTop Players Based on Impact:\")\n",
    "print(top_players[['player', 'impact']])"
   ]
  },
  {
   "cell_type": "code",
   "execution_count": 29,
   "metadata": {},
   "outputs": [],
   "source": [
    "# Opposition Analysis\n",
    "team_opposition_performance = df.groupby(['team', 'opposition']).agg({\n",
    "    'runs': 'sum',\n",
    "    'wkts': 'sum'\n",
    "}).reset_index()"
   ]
  },
  {
   "cell_type": "code",
   "execution_count": 30,
   "metadata": {},
   "outputs": [],
   "source": [
    "# Ground Analysis\n",
    "team_ground_performance = df.groupby(['team', 'ground']).agg({\n",
    "    'runs': 'sum',\n",
    "    'wkts': 'sum'\n",
    "}).reset_index()\n"
   ]
  },
  {
   "cell_type": "code",
   "execution_count": 31,
   "metadata": {},
   "outputs": [
    {
     "data": {
      "image/png": "[encoded data removed]",
      "text/plain": [
       "<Figure size 864x432 with 1 Axes>"
      ]
     },
     "metadata": {
      "needs_background": "light"
     },
     "output_type": "display_data"
    }
   ],
   "source": [
    "# Visualization: Opposition Analysis\n",
    "plt.figure(figsize=(12, 6))\n",
    "sns.barplot(x='team', y='runs', hue='opposition', data=team_opposition_performance)\n",
    "plt.title('Runs Scored by Each Team Against Different Oppositions')\n",
    "plt.xlabel('Team')\n",
    "plt.ylabel('Total Runs')\n",
    "plt.xticks(rotation=45)\n",
    "plt.legend(title='Opposition')\n",
    "plt.tight_layout()\n",
    "plt.show()"
   ]
  },
  {
   "cell_type": "code",
   "execution_count": 32,
   "metadata": {},
   "outputs": [
    {
     "data": {
      "image/png": "[encoded data removed]",
      "text/plain": [
       "<Figure size 864x432 with 1 Axes>"
      ]
     },
     "metadata": {
      "needs_background": "light"
     },
     "output_type": "display_data"
    }
   ],
   "source": [
    "# Visualization: Ground Analysis\n",
    "plt.figure(figsize=(12, 6))\n",
    "sns.barplot(x='team', y='runs', hue='ground', data=team_ground_performance)\n",
    "plt.title('Runs Scored by Each Team at Different Grounds')\n",
    "plt.xlabel('Team')\n",
    "plt.ylabel('Total Runs')\n",
    "plt.xticks(rotation=45)\n",
    "plt.legend(title='Ground')\n",
    "plt.tight_layout()\n",
    "plt.show()"
   ]
  },
  {
   "cell_type": "code",
   "execution_count": 33,
   "metadata": {},
   "outputs": [
    {
     "data": {
      "image/png": "[encoded data removed]",
      "text/plain": [
       "<Figure size 864x432 with 1 Axes>"
      ]
     },
     "metadata": {
      "needs_background": "light"
     },
     "output_type": "display_data"
    }
   ],
   "source": [
    "# Visualization: Opposition Analysis\n",
    "plt.figure(figsize=(12, 6))\n",
    "sns.barplot(x='team', y='wkts', hue='opposition', data=team_opposition_performance)\n",
    "plt.title('Wickets Scored by Each Team Against Different Oppositions')\n",
    "plt.xlabel('Team')\n",
    "plt.ylabel('Total Wickets')\n",
    "plt.xticks(rotation=45)\n",
    "plt.legend(title='Opposition')\n",
    "plt.tight_layout()\n",
    "plt.show()"
   ]
  },
  {
   "cell_type": "code",
   "execution_count": 34,
   "metadata": {},
   "outputs": [
    {
     "data": {
      "image/png": "[encoded data removed]",
      "text/plain": [
       "<Figure size 864x432 with 1 Axes>"
      ]
     },
     "metadata": {
      "needs_background": "light"
     },
     "output_type": "display_data"
    }
   ],
   "source": [
    "# Visualization: Ground Analysis\n",
    "plt.figure(figsize=(12, 6))\n",
    "sns.barplot(x='team', y='wkts', hue='ground', data=team_ground_performance)\n",
    "plt.title('Wickets Scored by Each Team at Different Grounds')\n",
    "plt.xlabel('Team')\n",
    "plt.ylabel('Total Wickets')\n",
    "plt.xticks(rotation=45)\n",
    "plt.legend(title='Ground')\n",
    "plt.tight_layout()\n",
    "plt.show()"
   ]
  },
  {
   "cell_type": "code",
   "execution_count": 35,
   "metadata": {},
   "outputs": [],
   "source": [
    "# Convert 'start_date' column to datetime\n",
    "df['start_date'] = pd.to_datetime(df['start_date'],  format=\"%d-%b-%y\")\n"
   ]
  },
  {
   "cell_type": "code",
   "execution_count": 36,
   "metadata": {},
   "outputs": [],
   "source": [
    "# Player Performance Over Time\n",
    "player_performance_over_time = df.groupby(['start_date', 'player']).agg({\n",
    "    'runs': 'sum',\n",
    "    'wkts': 'sum'\n",
    "}).reset_index()"
   ]
  },
  {
   "cell_type": "code",
   "execution_count": 37,
   "metadata": {},
   "outputs": [
    {
     "data": {
      "image/png": "[encoded data removed]",
      "text/plain": [
       "<Figure size 864x432 with 1 Axes>"
      ]
     },
     "metadata": {
      "needs_background": "light"
     },
     "output_type": "display_data"
    }
   ],
   "source": [
    "# Plotting Player Performance Over Time (Example: Top 5 Players)\n",
    "top_players = player_performance_over_time.groupby('player').agg({'runs': 'sum'}).nlargest(5, 'runs').index\n",
    "plt.figure(figsize=(12, 6))\n",
    "for player in top_players:\n",
    "    player_data = player_performance_over_time[player_performance_over_time['player'] == player]\n",
    "    plt.plot(player_data['start_date'], player_data['runs'], label=player, marker='o')\n",
    "plt.title('Player Performance Over Time (Top 5 Players)')\n",
    "plt.xlabel('Date')\n",
    "plt.ylabel('Runs')\n",
    "plt.xticks(rotation=45)\n",
    "plt.legend()\n",
    "plt.tight_layout()\n",
    "plt.show()"
   ]
  },
  {
   "cell_type": "code",
   "execution_count": 38,
   "metadata": {},
   "outputs": [
    {
     "data": {
      "image/png": "[encoded data removed]",
      "text/plain": [
       "<Figure size 864x432 with 1 Axes>"
      ]
     },
     "metadata": {
      "needs_background": "light"
     },
     "output_type": "display_data"
    }
   ],
   "source": [
    "# Plotting Player Performance Over Time (Example: Top 5 Players)\n",
    "top_players = player_performance_over_time.groupby('player').agg({'wkts': 'sum'}).nlargest(5, 'wkts').index\n",
    "plt.figure(figsize=(12, 6))\n",
    "for player in top_players:\n",
    "    player_data = player_performance_over_time[player_performance_over_time['player'] == player]\n",
    "    plt.plot(player_data['start_date'], player_data['wkts'], label=player, marker='o')\n",
    "plt.title('Player Performance Over Time (Top 5 Players)')\n",
    "plt.xlabel('Date')\n",
    "plt.ylabel('Wickets')\n",
    "plt.xticks(rotation=45)\n",
    "plt.legend()\n",
    "plt.tight_layout()\n",
    "plt.show()"
   ]
  },
  {
   "cell_type": "markdown",
   "metadata": {},
   "source": [
    "# Machine Learning"
   ]
  },
  {
   "cell_type": "markdown",
   "metadata": {},
   "source": [
    "# For Runs\n"
   ]
  },
  {
   "cell_type": "code",
   "execution_count": 39,
   "metadata": {},
   "outputs": [],
   "source": [
    "X = df.select_dtypes(include='number').drop(columns=['runs'])\n",
    "y = df['runs']"
   ]
  },
  {
   "cell_type": "code",
   "execution_count": 40,
   "metadata": {},
   "outputs": [],
   "source": [
    "# Split the data into training and testing sets\n",
    "X_train, X_test, y_train, y_test = train_test_split(X, y, test_size=0.2, random_state=42)\n"
   ]
  },
  {
   "cell_type": "code",
   "execution_count": 44,
   "metadata": {},
   "outputs": [],
   "source": [
    "# Define the parameter grid\n",
    "param_grid = {\n",
    "    'n_estimators': [50, 100, 200],\n",
    "    'max_depth': [None, 10, 20],\n",
    "    'min_samples_split': [2, 5, 10],\n",
    "    'min_samples_leaf': [1, 2, 4]\n",
    "}"
   ]
  },
  {
   "cell_type": "code",
   "execution_count": 45,
   "metadata": {},
   "outputs": [],
   "source": [
    "# Initialize the Random Forest Regressor\n",
    "rf = RandomForestRegressor(random_state=42)\n"
   ]
  },
  {
   "cell_type": "code",
   "execution_count": 46,
   "metadata": {},
   "outputs": [],
   "source": [
    "# Initialize GridSearchCV\n",
    "grid_search = GridSearchCV(estimator=rf, param_grid=param_grid, cv=5, scoring='neg_mean_squared_error', n_jobs=-1)\n"
   ]
  },
  {
   "cell_type": "code",
   "execution_count": 47,
   "metadata": {},
   "outputs": [],
   "source": [
    "# Initialize the StandardScaler\n",
    "scaler = StandardScaler()"
   ]
  },
  {
   "cell_type": "code",
   "execution_count": 48,
   "metadata": {},
   "outputs": [],
   "source": [
    "# Fit the scaler to the training data and transform it\n",
    "X_train_scaled = scaler.fit_transform(X_train)\n",
    "\n",
    "# Transform the testing data\n",
    "X_test_scaled = scaler.transform(X_test)"
   ]
  },
  {
   "cell_type": "code",
   "execution_count": 49,
   "metadata": {},
   "outputs": [
    {
     "data": {
      "text/plain": [
       "GridSearchCV(cv=5, estimator=RandomForestRegressor(random_state=42), n_jobs=-1,\n",
       "             param_grid={'max_depth': [None, 10, 20],\n",
       "                         'min_samples_leaf': [1, 2, 4],\n",
       "                         'min_samples_split': [2, 5, 10],\n",
       "                         'n_estimators': [50, 100, 200]},\n",
       "             scoring='neg_mean_squared_error')"
      ]
     },
     "execution_count": 49,
     "metadata": {},
     "output_type": "execute_result"
    }
   ],
   "source": [
    "# Fit the grid search to the data\n",
    "grid_search.fit(X_train_scaled, y_train)\n"
   ]
  },
  {
   "cell_type": "code",
   "execution_count": 50,
   "metadata": {},
   "outputs": [],
   "source": [
    "# Get the best parameters and the best model\n",
    "best_params = grid_search.best_params_\n",
    "best_model = grid_search.best_estimator_\n"
   ]
  },
  {
   "cell_type": "code",
   "execution_count": 51,
   "metadata": {},
   "outputs": [],
   "source": [
    "# Make predictions on the testing set using the best model\n",
    "predictions = best_model.predict(X_test_scaled)\n"
   ]
  },
  {
   "cell_type": "code",
   "execution_count": 52,
   "metadata": {},
   "outputs": [
    {
     "name": "stdout",
     "output_type": "stream",
     "text": [
      "Best Model Mean Squared Error: 4.427055319148937\n",
      "Best Model Parameters: {'max_depth': None, 'min_samples_leaf': 1, 'min_samples_split': 2, 'n_estimators': 200}\n"
     ]
    }
   ],
   "source": [
    "mse = mean_squared_error(y_test, predictions)\n",
    "print(\"Best Model Mean Squared Error:\", mse)\n",
    "print(\"Best Model Parameters:\", best_params)"
   ]
  },
  {
   "cell_type": "markdown",
   "metadata": {},
   "source": [
    "# Evaluating"
   ]
  },
  {
   "cell_type": "code",
   "execution_count": 53,
   "metadata": {},
   "outputs": [
    {
     "data": {
      "text/html": [
       "<div>\n",
       "<style scoped>\n",
       "    .dataframe tbody tr th:only-of-type {\n",
       "        vertical-align: middle;\n",
       "    }\n",
       "\n",
       "    .dataframe tbody tr th {\n",
       "        vertical-align: top;\n",
       "    }\n",
       "\n",
       "    .dataframe thead th {\n",
       "        text-align: right;\n",
       "    }\n",
       "</style>\n",
       "<table border=\"1\" class=\"dataframe\">\n",
       "  <thead>\n",
       "    <tr style=\"text-align: right;\">\n",
       "      <th></th>\n",
       "      <th>bb_bf</th>\n",
       "      <th>wkts</th>\n",
       "      <th>wicketball_prob</th>\n",
       "      <th>runs_per_ball</th>\n",
       "      <th>overs</th>\n",
       "      <th>mdns</th>\n",
       "      <th>econ</th>\n",
       "      <th>inns</th>\n",
       "      <th>4s</th>\n",
       "      <th>6s</th>\n",
       "      <th>sr</th>\n",
       "      <th>not_out</th>\n",
       "      <th>mins</th>\n",
       "    </tr>\n",
       "  </thead>\n",
       "  <tbody>\n",
       "    <tr>\n",
       "      <th>0</th>\n",
       "      <td>60</td>\n",
       "      <td>3.0</td>\n",
       "      <td>0.05</td>\n",
       "      <td>0.750000</td>\n",
       "      <td>10.0</td>\n",
       "      <td>0.0</td>\n",
       "      <td>4.50</td>\n",
       "      <td>2</td>\n",
       "      <td>0.0</td>\n",
       "      <td>0.0</td>\n",
       "      <td>0.0</td>\n",
       "      <td>0.0</td>\n",
       "      <td>0.0</td>\n",
       "    </tr>\n",
       "    <tr>\n",
       "      <th>1</th>\n",
       "      <td>60</td>\n",
       "      <td>3.0</td>\n",
       "      <td>0.05</td>\n",
       "      <td>0.750000</td>\n",
       "      <td>10.0</td>\n",
       "      <td>2.0</td>\n",
       "      <td>4.50</td>\n",
       "      <td>1</td>\n",
       "      <td>0.0</td>\n",
       "      <td>0.0</td>\n",
       "      <td>0.0</td>\n",
       "      <td>0.0</td>\n",
       "      <td>0.0</td>\n",
       "    </tr>\n",
       "    <tr>\n",
       "      <th>2</th>\n",
       "      <td>60</td>\n",
       "      <td>3.0</td>\n",
       "      <td>0.05</td>\n",
       "      <td>0.800000</td>\n",
       "      <td>10.0</td>\n",
       "      <td>1.0</td>\n",
       "      <td>4.80</td>\n",
       "      <td>1</td>\n",
       "      <td>0.0</td>\n",
       "      <td>0.0</td>\n",
       "      <td>0.0</td>\n",
       "      <td>0.0</td>\n",
       "      <td>0.0</td>\n",
       "    </tr>\n",
       "    <tr>\n",
       "      <th>3</th>\n",
       "      <td>60</td>\n",
       "      <td>3.0</td>\n",
       "      <td>0.05</td>\n",
       "      <td>0.816667</td>\n",
       "      <td>10.0</td>\n",
       "      <td>0.0</td>\n",
       "      <td>4.90</td>\n",
       "      <td>1</td>\n",
       "      <td>0.0</td>\n",
       "      <td>0.0</td>\n",
       "      <td>0.0</td>\n",
       "      <td>0.0</td>\n",
       "      <td>0.0</td>\n",
       "    </tr>\n",
       "    <tr>\n",
       "      <th>4</th>\n",
       "      <td>60</td>\n",
       "      <td>3.0</td>\n",
       "      <td>0.05</td>\n",
       "      <td>0.816667</td>\n",
       "      <td>10.0</td>\n",
       "      <td>0.0</td>\n",
       "      <td>4.90</td>\n",
       "      <td>1</td>\n",
       "      <td>0.0</td>\n",
       "      <td>0.0</td>\n",
       "      <td>0.0</td>\n",
       "      <td>0.0</td>\n",
       "      <td>0.0</td>\n",
       "    </tr>\n",
       "    <tr>\n",
       "      <th>...</th>\n",
       "      <td>...</td>\n",
       "      <td>...</td>\n",
       "      <td>...</td>\n",
       "      <td>...</td>\n",
       "      <td>...</td>\n",
       "      <td>...</td>\n",
       "      <td>...</td>\n",
       "      <td>...</td>\n",
       "      <td>...</td>\n",
       "      <td>...</td>\n",
       "      <td>...</td>\n",
       "      <td>...</td>\n",
       "      <td>...</td>\n",
       "    </tr>\n",
       "    <tr>\n",
       "      <th>1403</th>\n",
       "      <td>60</td>\n",
       "      <td>0.0</td>\n",
       "      <td>0.00</td>\n",
       "      <td>0.850000</td>\n",
       "      <td>10.0</td>\n",
       "      <td>1.0</td>\n",
       "      <td>5.10</td>\n",
       "      <td>1</td>\n",
       "      <td>0.0</td>\n",
       "      <td>0.0</td>\n",
       "      <td>0.0</td>\n",
       "      <td>0.0</td>\n",
       "      <td>0.0</td>\n",
       "    </tr>\n",
       "    <tr>\n",
       "      <th>1404</th>\n",
       "      <td>42</td>\n",
       "      <td>0.0</td>\n",
       "      <td>0.00</td>\n",
       "      <td>1.309524</td>\n",
       "      <td>7.0</td>\n",
       "      <td>0.0</td>\n",
       "      <td>7.85</td>\n",
       "      <td>1</td>\n",
       "      <td>0.0</td>\n",
       "      <td>0.0</td>\n",
       "      <td>0.0</td>\n",
       "      <td>0.0</td>\n",
       "      <td>0.0</td>\n",
       "    </tr>\n",
       "    <tr>\n",
       "      <th>1405</th>\n",
       "      <td>42</td>\n",
       "      <td>0.0</td>\n",
       "      <td>0.00</td>\n",
       "      <td>1.428571</td>\n",
       "      <td>7.0</td>\n",
       "      <td>0.0</td>\n",
       "      <td>8.57</td>\n",
       "      <td>1</td>\n",
       "      <td>0.0</td>\n",
       "      <td>0.0</td>\n",
       "      <td>0.0</td>\n",
       "      <td>0.0</td>\n",
       "      <td>0.0</td>\n",
       "    </tr>\n",
       "    <tr>\n",
       "      <th>1406</th>\n",
       "      <td>60</td>\n",
       "      <td>0.0</td>\n",
       "      <td>0.00</td>\n",
       "      <td>1.050000</td>\n",
       "      <td>10.0</td>\n",
       "      <td>0.0</td>\n",
       "      <td>6.30</td>\n",
       "      <td>2</td>\n",
       "      <td>0.0</td>\n",
       "      <td>0.0</td>\n",
       "      <td>0.0</td>\n",
       "      <td>0.0</td>\n",
       "      <td>0.0</td>\n",
       "    </tr>\n",
       "    <tr>\n",
       "      <th>1407</th>\n",
       "      <td>48</td>\n",
       "      <td>0.0</td>\n",
       "      <td>0.00</td>\n",
       "      <td>1.354167</td>\n",
       "      <td>8.0</td>\n",
       "      <td>0.0</td>\n",
       "      <td>8.12</td>\n",
       "      <td>1</td>\n",
       "      <td>0.0</td>\n",
       "      <td>0.0</td>\n",
       "      <td>0.0</td>\n",
       "      <td>0.0</td>\n",
       "      <td>0.0</td>\n",
       "    </tr>\n",
       "  </tbody>\n",
       "</table>\n",
       "<p>1408 rows × 13 columns</p>\n",
       "</div>"
      ],
      "text/plain": [
       "      bb_bf  wkts  wicketball_prob  runs_per_ball  overs  mdns  econ  inns  \\\n",
       "0        60   3.0             0.05       0.750000   10.0   0.0  4.50     2   \n",
       "1        60   3.0             0.05       0.750000   10.0   2.0  4.50     1   \n",
       "2        60   3.0             0.05       0.800000   10.0   1.0  4.80     1   \n",
       "3        60   3.0             0.05       0.816667   10.0   0.0  4.90     1   \n",
       "4        60   3.0             0.05       0.816667   10.0   0.0  4.90     1   \n",
       "...     ...   ...              ...            ...    ...   ...   ...   ...   \n",
       "1403     60   0.0             0.00       0.850000   10.0   1.0  5.10     1   \n",
       "1404     42   0.0             0.00       1.309524    7.0   0.0  7.85     1   \n",
       "1405     42   0.0             0.00       1.428571    7.0   0.0  8.57     1   \n",
       "1406     60   0.0             0.00       1.050000   10.0   0.0  6.30     2   \n",
       "1407     48   0.0             0.00       1.354167    8.0   0.0  8.12     1   \n",
       "\n",
       "       4s   6s   sr  not_out  mins  \n",
       "0     0.0  0.0  0.0      0.0   0.0  \n",
       "1     0.0  0.0  0.0      0.0   0.0  \n",
       "2     0.0  0.0  0.0      0.0   0.0  \n",
       "3     0.0  0.0  0.0      0.0   0.0  \n",
       "4     0.0  0.0  0.0      0.0   0.0  \n",
       "...   ...  ...  ...      ...   ...  \n",
       "1403  0.0  0.0  0.0      0.0   0.0  \n",
       "1404  0.0  0.0  0.0      0.0   0.0  \n",
       "1405  0.0  0.0  0.0      0.0   0.0  \n",
       "1406  0.0  0.0  0.0      0.0   0.0  \n",
       "1407  0.0  0.0  0.0      0.0   0.0  \n",
       "\n",
       "[1408 rows x 13 columns]"
      ]
     },
     "execution_count": 53,
     "metadata": {},
     "output_type": "execute_result"
    }
   ],
   "source": [
    "X"
   ]
  },
  {
   "cell_type": "code",
   "execution_count": 54,
   "metadata": {},
   "outputs": [],
   "source": [
    "i=1"
   ]
  },
  {
   "cell_type": "code",
   "execution_count": 55,
   "metadata": {},
   "outputs": [
    {
     "data": {
      "text/plain": [
       "team                               ENG\n",
       "player                 DJ Willey (ENG)\n",
       "bat_or_bowl                       bowl\n",
       "bb_bf                               60\n",
       "runs                                45\n",
       "wkts                               3.0\n",
       "wicketball_prob                   0.05\n",
       "runs_per_ball                     0.75\n",
       "opposition                     v India\n",
       "ground                         Lucknow\n",
       "start_date         2023-10-29 00:00:00\n",
       "overs                             10.0\n",
       "mdns                               2.0\n",
       "econ                               4.5\n",
       "inns                                 1\n",
       "4s                                 0.0\n",
       "6s                                 0.0\n",
       "sr                                 0.0\n",
       "not_out                            0.0\n",
       "mins                               0.0\n",
       "Name: 1, dtype: object"
      ]
     },
     "execution_count": 55,
     "metadata": {},
     "output_type": "execute_result"
    }
   ],
   "source": [
    "df.iloc[i]"
   ]
  },
  {
   "cell_type": "code",
   "execution_count": 56,
   "metadata": {},
   "outputs": [
    {
     "data": {
      "text/plain": [
       "bb_bf              60.00\n",
       "wkts                3.00\n",
       "wicketball_prob     0.05\n",
       "runs_per_ball       0.75\n",
       "overs              10.00\n",
       "mdns                2.00\n",
       "econ                4.50\n",
       "inns                1.00\n",
       "4s                  0.00\n",
       "6s                  0.00\n",
       "sr                  0.00\n",
       "not_out             0.00\n",
       "mins                0.00\n",
       "Name: 1, dtype: float64"
      ]
     },
     "execution_count": 56,
     "metadata": {},
     "output_type": "execute_result"
    }
   ],
   "source": [
    "X.iloc[i]"
   ]
  },
  {
   "cell_type": "code",
   "execution_count": 57,
   "metadata": {},
   "outputs": [
    {
     "data": {
      "text/plain": [
       "45"
      ]
     },
     "execution_count": 57,
     "metadata": {},
     "output_type": "execute_result"
    }
   ],
   "source": [
    "y.iloc[i]"
   ]
  },
  {
   "cell_type": "code",
   "execution_count": 58,
   "metadata": {},
   "outputs": [],
   "source": [
    "X_scaled = scaler.fit_transform(X)"
   ]
  },
  {
   "cell_type": "code",
   "execution_count": 59,
   "metadata": {},
   "outputs": [
    {
     "name": "stdout",
     "output_type": "stream",
     "text": [
      "Predicted runs: 44.97\n"
     ]
    }
   ],
   "source": [
    "sample_scaled = X_scaled[i].reshape(1, -1)\n",
    "\n",
    "# Make predictions using the trained model\n",
    "prediction = best_model.predict(sample_scaled)\n",
    "\n",
    "print(\"Predicted runs:\", prediction[0])\n"
   ]
  },
  {
   "cell_type": "code",
   "execution_count": 60,
   "metadata": {},
   "outputs": [],
   "source": [
    "i = 3"
   ]
  },
  {
   "cell_type": "code",
   "execution_count": 61,
   "metadata": {},
   "outputs": [
    {
     "data": {
      "text/plain": [
       "team                                NZ\n",
       "player                LH Ferguson (NZ)\n",
       "bat_or_bowl                       bowl\n",
       "bb_bf                               60\n",
       "runs                                49\n",
       "wkts                               3.0\n",
       "wicketball_prob                   0.05\n",
       "runs_per_ball                 0.816667\n",
       "opposition                v Bangladesh\n",
       "ground                         Chennai\n",
       "start_date         2023-10-13 00:00:00\n",
       "overs                             10.0\n",
       "mdns                               0.0\n",
       "econ                               4.9\n",
       "inns                                 1\n",
       "4s                                 0.0\n",
       "6s                                 0.0\n",
       "sr                                 0.0\n",
       "not_out                            0.0\n",
       "mins                               0.0\n",
       "Name: 3, dtype: object"
      ]
     },
     "execution_count": 61,
     "metadata": {},
     "output_type": "execute_result"
    }
   ],
   "source": [
    "df.iloc[i]"
   ]
  },
  {
   "cell_type": "code",
   "execution_count": 62,
   "metadata": {},
   "outputs": [
    {
     "data": {
      "text/plain": [
       "bb_bf              60.000000\n",
       "wkts                3.000000\n",
       "wicketball_prob     0.050000\n",
       "runs_per_ball       0.816667\n",
       "overs              10.000000\n",
       "mdns                0.000000\n",
       "econ                4.900000\n",
       "inns                1.000000\n",
       "4s                  0.000000\n",
       "6s                  0.000000\n",
       "sr                  0.000000\n",
       "not_out             0.000000\n",
       "mins                0.000000\n",
       "Name: 3, dtype: float64"
      ]
     },
     "execution_count": 62,
     "metadata": {},
     "output_type": "execute_result"
    }
   ],
   "source": [
    "X.iloc[i]"
   ]
  },
  {
   "cell_type": "code",
   "execution_count": 63,
   "metadata": {},
   "outputs": [
    {
     "data": {
      "text/plain": [
       "49"
      ]
     },
     "execution_count": 63,
     "metadata": {},
     "output_type": "execute_result"
    }
   ],
   "source": [
    "y.iloc[i]"
   ]
  },
  {
   "cell_type": "code",
   "execution_count": 64,
   "metadata": {},
   "outputs": [
    {
     "name": "stdout",
     "output_type": "stream",
     "text": [
      "Predicted runs: 48.995\n"
     ]
    }
   ],
   "source": [
    "sample_scaled = X_scaled[i].reshape(1, -1)\n",
    "\n",
    "# Make predictions using the trained model\n",
    "prediction = best_model.predict(sample_scaled)\n",
    "\n",
    "print(\"Predicted runs:\", prediction[0])\n"
   ]
  },
  {
   "cell_type": "code",
   "execution_count": 65,
   "metadata": {},
   "outputs": [],
   "source": [
    "i = 20"
   ]
  },
  {
   "cell_type": "code",
   "execution_count": 66,
   "metadata": {},
   "outputs": [
    {
     "data": {
      "text/plain": [
       "team                               IND\n",
       "player             Kuldeep Yadav (IND)\n",
       "bat_or_bowl                       bowl\n",
       "bb_bf                               31\n",
       "runs                                 7\n",
       "wkts                               2.0\n",
       "wicketball_prob               0.064516\n",
       "runs_per_ball                 0.225806\n",
       "opposition              v South Africa\n",
       "ground                    Eden Gardens\n",
       "start_date         2023-11-05 00:00:00\n",
       "overs                              5.1\n",
       "mdns                               1.0\n",
       "econ                              1.35\n",
       "inns                                 2\n",
       "4s                                 0.0\n",
       "6s                                 0.0\n",
       "sr                                 0.0\n",
       "not_out                            0.0\n",
       "mins                               0.0\n",
       "Name: 20, dtype: object"
      ]
     },
     "execution_count": 66,
     "metadata": {},
     "output_type": "execute_result"
    }
   ],
   "source": [
    "df.iloc[i]"
   ]
  },
  {
   "cell_type": "code",
   "execution_count": 67,
   "metadata": {},
   "outputs": [
    {
     "data": {
      "text/plain": [
       "bb_bf              31.000000\n",
       "wkts                2.000000\n",
       "wicketball_prob     0.064516\n",
       "runs_per_ball       0.225806\n",
       "overs               5.100000\n",
       "mdns                1.000000\n",
       "econ                1.350000\n",
       "inns                2.000000\n",
       "4s                  0.000000\n",
       "6s                  0.000000\n",
       "sr                  0.000000\n",
       "not_out             0.000000\n",
       "mins                0.000000\n",
       "Name: 20, dtype: float64"
      ]
     },
     "execution_count": 67,
     "metadata": {},
     "output_type": "execute_result"
    }
   ],
   "source": [
    "X.iloc[i]"
   ]
  },
  {
   "cell_type": "code",
   "execution_count": 68,
   "metadata": {},
   "outputs": [
    {
     "data": {
      "text/plain": [
       "7"
      ]
     },
     "execution_count": 68,
     "metadata": {},
     "output_type": "execute_result"
    }
   ],
   "source": [
    "y.iloc[i]"
   ]
  },
  {
   "cell_type": "code",
   "execution_count": 69,
   "metadata": {},
   "outputs": [
    {
     "name": "stdout",
     "output_type": "stream",
     "text": [
      "Predicted runs: 6.885\n"
     ]
    }
   ],
   "source": [
    "sample_scaled = X_scaled[i].reshape(1, -1)\n",
    "\n",
    "# Make predictions using the trained model\n",
    "prediction = best_model.predict(sample_scaled)\n",
    "\n",
    "print(\"Predicted runs:\", prediction[0])\n"
   ]
  },
  {
   "cell_type": "code",
   "execution_count": 70,
   "metadata": {},
   "outputs": [
    {
     "name": "stdout",
     "output_type": "stream",
     "text": [
      "Model saved successfully to: WorldCup2023_runs_best_model.pkl\n"
     ]
    }
   ],
   "source": [
    "import joblib\n",
    "\n",
    "# Define the file path where you want to save the model\n",
    "model_file_path = 'WorldCup2023_runs_best_model.pkl'\n",
    "\n",
    "# Save the model to disk\n",
    "joblib.dump(best_model, model_file_path)\n",
    "\n",
    "print(\"Model saved successfully to:\", model_file_path)\n"
   ]
  },
  {
   "cell_type": "markdown",
   "metadata": {},
   "source": [
    "# For wkts"
   ]
  },
  {
   "cell_type": "code",
   "execution_count": 71,
   "metadata": {},
   "outputs": [],
   "source": [
    "X = df.select_dtypes(include='number').drop(columns=['wkts'])\n",
    "y = df['wkts']"
   ]
  },
  {
   "cell_type": "code",
   "execution_count": 72,
   "metadata": {},
   "outputs": [],
   "source": [
    "# Split the data into training and testing sets\n",
    "X_train, X_test, y_train, y_test = train_test_split(X, y, test_size=0.2, random_state=42)\n"
   ]
  },
  {
   "cell_type": "code",
   "execution_count": 76,
   "metadata": {},
   "outputs": [],
   "source": [
    "# Define the parameter grid\n",
    "param_grid = {\n",
    "    'n_estimators': [50, 100, 200],\n",
    "    'max_depth': [None, 10, 20],\n",
    "    'min_samples_split': [2, 5, 10],\n",
    "    'min_samples_leaf': [1, 2, 4]\n",
    "}"
   ]
  },
  {
   "cell_type": "code",
   "execution_count": 77,
   "metadata": {},
   "outputs": [],
   "source": [
    "# Initialize the Random Forest Regressor\n",
    "rf = RandomForestRegressor(random_state=42)\n"
   ]
  },
  {
   "cell_type": "code",
   "execution_count": 78,
   "metadata": {},
   "outputs": [],
   "source": [
    "# Initialize GridSearchCV\n",
    "grid_search = GridSearchCV(estimator=rf, param_grid=param_grid, cv=5, scoring='neg_mean_squared_error', n_jobs=-1)\n"
   ]
  },
  {
   "cell_type": "code",
   "execution_count": 79,
   "metadata": {},
   "outputs": [],
   "source": [
    "# Initialize the StandardScaler\n",
    "scaler = StandardScaler()"
   ]
  },
  {
   "cell_type": "code",
   "execution_count": 80,
   "metadata": {},
   "outputs": [],
   "source": [
    "# Fit the scaler to the training data and transform it\n",
    "X_train_scaled = scaler.fit_transform(X_train)\n",
    "\n",
    "# Transform the testing data\n",
    "X_test_scaled = scaler.transform(X_test)"
   ]
  },
  {
   "cell_type": "code",
   "execution_count": 81,
   "metadata": {},
   "outputs": [
    {
     "data": {
      "text/plain": [
       "GridSearchCV(cv=5, estimator=RandomForestRegressor(random_state=42), n_jobs=-1,\n",
       "             param_grid={'max_depth': [None, 10, 20],\n",
       "                         'min_samples_leaf': [1, 2, 4],\n",
       "                         'min_samples_split': [2, 5, 10],\n",
       "                         'n_estimators': [50, 100, 200]},\n",
       "             scoring='neg_mean_squared_error')"
      ]
     },
     "execution_count": 81,
     "metadata": {},
     "output_type": "execute_result"
    }
   ],
   "source": [
    "# Fit the grid search to the data\n",
    "grid_search.fit(X_train_scaled, y_train)\n"
   ]
  },
  {
   "cell_type": "code",
   "execution_count": 82,
   "metadata": {},
   "outputs": [],
   "source": [
    "# Get the best parameters and the best model\n",
    "best_params = grid_search.best_params_\n",
    "best_model = grid_search.best_estimator_\n"
   ]
  },
  {
   "cell_type": "code",
   "execution_count": 83,
   "metadata": {},
   "outputs": [],
   "source": [
    "# Make predictions on the testing set using the best model\n",
    "predictions = best_model.predict(X_test_scaled)\n"
   ]
  },
  {
   "cell_type": "code",
   "execution_count": 84,
   "metadata": {},
   "outputs": [
    {
     "name": "stdout",
     "output_type": "stream",
     "text": [
      "Best Model Mean Squared Error: 0.031581648936170215\n",
      "Best Model Parameters: {'max_depth': None, 'min_samples_leaf': 1, 'min_samples_split': 2, 'n_estimators': 200}\n"
     ]
    }
   ],
   "source": [
    "mse = mean_squared_error(y_test, predictions)\n",
    "print(\"Best Model Mean Squared Error:\", mse)\n",
    "print(\"Best Model Parameters:\", best_params)"
   ]
  },
  {
   "cell_type": "markdown",
   "metadata": {},
   "source": [
    "# Evaluating"
   ]
  },
  {
   "cell_type": "code",
   "execution_count": 85,
   "metadata": {},
   "outputs": [
    {
     "data": {
      "text/html": [
       "<div>\n",
       "<style scoped>\n",
       "    .dataframe tbody tr th:only-of-type {\n",
       "        vertical-align: middle;\n",
       "    }\n",
       "\n",
       "    .dataframe tbody tr th {\n",
       "        vertical-align: top;\n",
       "    }\n",
       "\n",
       "    .dataframe thead th {\n",
       "        text-align: right;\n",
       "    }\n",
       "</style>\n",
       "<table border=\"1\" class=\"dataframe\">\n",
       "  <thead>\n",
       "    <tr style=\"text-align: right;\">\n",
       "      <th></th>\n",
       "      <th>bb_bf</th>\n",
       "      <th>runs</th>\n",
       "      <th>wicketball_prob</th>\n",
       "      <th>runs_per_ball</th>\n",
       "      <th>overs</th>\n",
       "      <th>mdns</th>\n",
       "      <th>econ</th>\n",
       "      <th>inns</th>\n",
       "      <th>4s</th>\n",
       "      <th>6s</th>\n",
       "      <th>sr</th>\n",
       "      <th>not_out</th>\n",
       "      <th>mins</th>\n",
       "    </tr>\n",
       "  </thead>\n",
       "  <tbody>\n",
       "    <tr>\n",
       "      <th>0</th>\n",
       "      <td>60</td>\n",
       "      <td>45</td>\n",
       "      <td>0.05</td>\n",
       "      <td>0.750000</td>\n",
       "      <td>10.0</td>\n",
       "      <td>0.0</td>\n",
       "      <td>4.50</td>\n",
       "      <td>2</td>\n",
       "      <td>0.0</td>\n",
       "      <td>0.0</td>\n",
       "      <td>0.0</td>\n",
       "      <td>0.0</td>\n",
       "      <td>0.0</td>\n",
       "    </tr>\n",
       "    <tr>\n",
       "      <th>1</th>\n",
       "      <td>60</td>\n",
       "      <td>45</td>\n",
       "      <td>0.05</td>\n",
       "      <td>0.750000</td>\n",
       "      <td>10.0</td>\n",
       "      <td>2.0</td>\n",
       "      <td>4.50</td>\n",
       "      <td>1</td>\n",
       "      <td>0.0</td>\n",
       "      <td>0.0</td>\n",
       "      <td>0.0</td>\n",
       "      <td>0.0</td>\n",
       "      <td>0.0</td>\n",
       "    </tr>\n",
       "    <tr>\n",
       "      <th>2</th>\n",
       "      <td>60</td>\n",
       "      <td>48</td>\n",
       "      <td>0.05</td>\n",
       "      <td>0.800000</td>\n",
       "      <td>10.0</td>\n",
       "      <td>1.0</td>\n",
       "      <td>4.80</td>\n",
       "      <td>1</td>\n",
       "      <td>0.0</td>\n",
       "      <td>0.0</td>\n",
       "      <td>0.0</td>\n",
       "      <td>0.0</td>\n",
       "      <td>0.0</td>\n",
       "    </tr>\n",
       "    <tr>\n",
       "      <th>3</th>\n",
       "      <td>60</td>\n",
       "      <td>49</td>\n",
       "      <td>0.05</td>\n",
       "      <td>0.816667</td>\n",
       "      <td>10.0</td>\n",
       "      <td>0.0</td>\n",
       "      <td>4.90</td>\n",
       "      <td>1</td>\n",
       "      <td>0.0</td>\n",
       "      <td>0.0</td>\n",
       "      <td>0.0</td>\n",
       "      <td>0.0</td>\n",
       "      <td>0.0</td>\n",
       "    </tr>\n",
       "    <tr>\n",
       "      <th>4</th>\n",
       "      <td>60</td>\n",
       "      <td>49</td>\n",
       "      <td>0.05</td>\n",
       "      <td>0.816667</td>\n",
       "      <td>10.0</td>\n",
       "      <td>0.0</td>\n",
       "      <td>4.90</td>\n",
       "      <td>1</td>\n",
       "      <td>0.0</td>\n",
       "      <td>0.0</td>\n",
       "      <td>0.0</td>\n",
       "      <td>0.0</td>\n",
       "      <td>0.0</td>\n",
       "    </tr>\n",
       "    <tr>\n",
       "      <th>...</th>\n",
       "      <td>...</td>\n",
       "      <td>...</td>\n",
       "      <td>...</td>\n",
       "      <td>...</td>\n",
       "      <td>...</td>\n",
       "      <td>...</td>\n",
       "      <td>...</td>\n",
       "      <td>...</td>\n",
       "      <td>...</td>\n",
       "      <td>...</td>\n",
       "      <td>...</td>\n",
       "      <td>...</td>\n",
       "      <td>...</td>\n",
       "    </tr>\n",
       "    <tr>\n",
       "      <th>1403</th>\n",
       "      <td>60</td>\n",
       "      <td>51</td>\n",
       "      <td>0.00</td>\n",
       "      <td>0.850000</td>\n",
       "      <td>10.0</td>\n",
       "      <td>1.0</td>\n",
       "      <td>5.10</td>\n",
       "      <td>1</td>\n",
       "      <td>0.0</td>\n",
       "      <td>0.0</td>\n",
       "      <td>0.0</td>\n",
       "      <td>0.0</td>\n",
       "      <td>0.0</td>\n",
       "    </tr>\n",
       "    <tr>\n",
       "      <th>1404</th>\n",
       "      <td>42</td>\n",
       "      <td>55</td>\n",
       "      <td>0.00</td>\n",
       "      <td>1.309524</td>\n",
       "      <td>7.0</td>\n",
       "      <td>0.0</td>\n",
       "      <td>7.85</td>\n",
       "      <td>1</td>\n",
       "      <td>0.0</td>\n",
       "      <td>0.0</td>\n",
       "      <td>0.0</td>\n",
       "      <td>0.0</td>\n",
       "      <td>0.0</td>\n",
       "    </tr>\n",
       "    <tr>\n",
       "      <th>1405</th>\n",
       "      <td>42</td>\n",
       "      <td>60</td>\n",
       "      <td>0.00</td>\n",
       "      <td>1.428571</td>\n",
       "      <td>7.0</td>\n",
       "      <td>0.0</td>\n",
       "      <td>8.57</td>\n",
       "      <td>1</td>\n",
       "      <td>0.0</td>\n",
       "      <td>0.0</td>\n",
       "      <td>0.0</td>\n",
       "      <td>0.0</td>\n",
       "      <td>0.0</td>\n",
       "    </tr>\n",
       "    <tr>\n",
       "      <th>1406</th>\n",
       "      <td>60</td>\n",
       "      <td>63</td>\n",
       "      <td>0.00</td>\n",
       "      <td>1.050000</td>\n",
       "      <td>10.0</td>\n",
       "      <td>0.0</td>\n",
       "      <td>6.30</td>\n",
       "      <td>2</td>\n",
       "      <td>0.0</td>\n",
       "      <td>0.0</td>\n",
       "      <td>0.0</td>\n",
       "      <td>0.0</td>\n",
       "      <td>0.0</td>\n",
       "    </tr>\n",
       "    <tr>\n",
       "      <th>1407</th>\n",
       "      <td>48</td>\n",
       "      <td>65</td>\n",
       "      <td>0.00</td>\n",
       "      <td>1.354167</td>\n",
       "      <td>8.0</td>\n",
       "      <td>0.0</td>\n",
       "      <td>8.12</td>\n",
       "      <td>1</td>\n",
       "      <td>0.0</td>\n",
       "      <td>0.0</td>\n",
       "      <td>0.0</td>\n",
       "      <td>0.0</td>\n",
       "      <td>0.0</td>\n",
       "    </tr>\n",
       "  </tbody>\n",
       "</table>\n",
       "<p>1408 rows × 13 columns</p>\n",
       "</div>"
      ],
      "text/plain": [
       "      bb_bf  runs  wicketball_prob  runs_per_ball  overs  mdns  econ  inns  \\\n",
       "0        60    45             0.05       0.750000   10.0   0.0  4.50     2   \n",
       "1        60    45             0.05       0.750000   10.0   2.0  4.50     1   \n",
       "2        60    48             0.05       0.800000   10.0   1.0  4.80     1   \n",
       "3        60    49             0.05       0.816667   10.0   0.0  4.90     1   \n",
       "4        60    49             0.05       0.816667   10.0   0.0  4.90     1   \n",
       "...     ...   ...              ...            ...    ...   ...   ...   ...   \n",
       "1403     60    51             0.00       0.850000   10.0   1.0  5.10     1   \n",
       "1404     42    55             0.00       1.309524    7.0   0.0  7.85     1   \n",
       "1405     42    60             0.00       1.428571    7.0   0.0  8.57     1   \n",
       "1406     60    63             0.00       1.050000   10.0   0.0  6.30     2   \n",
       "1407     48    65             0.00       1.354167    8.0   0.0  8.12     1   \n",
       "\n",
       "       4s   6s   sr  not_out  mins  \n",
       "0     0.0  0.0  0.0      0.0   0.0  \n",
       "1     0.0  0.0  0.0      0.0   0.0  \n",
       "2     0.0  0.0  0.0      0.0   0.0  \n",
       "3     0.0  0.0  0.0      0.0   0.0  \n",
       "4     0.0  0.0  0.0      0.0   0.0  \n",
       "...   ...  ...  ...      ...   ...  \n",
       "1403  0.0  0.0  0.0      0.0   0.0  \n",
       "1404  0.0  0.0  0.0      0.0   0.0  \n",
       "1405  0.0  0.0  0.0      0.0   0.0  \n",
       "1406  0.0  0.0  0.0      0.0   0.0  \n",
       "1407  0.0  0.0  0.0      0.0   0.0  \n",
       "\n",
       "[1408 rows x 13 columns]"
      ]
     },
     "execution_count": 85,
     "metadata": {},
     "output_type": "execute_result"
    }
   ],
   "source": [
    "X"
   ]
  },
  {
   "cell_type": "code",
   "execution_count": 86,
   "metadata": {},
   "outputs": [],
   "source": [
    "i=1"
   ]
  },
  {
   "cell_type": "code",
   "execution_count": 87,
   "metadata": {},
   "outputs": [
    {
     "data": {
      "text/plain": [
       "team                               ENG\n",
       "player                 DJ Willey (ENG)\n",
       "bat_or_bowl                       bowl\n",
       "bb_bf                               60\n",
       "runs                                45\n",
       "wkts                               3.0\n",
       "wicketball_prob                   0.05\n",
       "runs_per_ball                     0.75\n",
       "opposition                     v India\n",
       "ground                         Lucknow\n",
       "start_date         2023-10-29 00:00:00\n",
       "overs                             10.0\n",
       "mdns                               2.0\n",
       "econ                               4.5\n",
       "inns                                 1\n",
       "4s                                 0.0\n",
       "6s                                 0.0\n",
       "sr                                 0.0\n",
       "not_out                            0.0\n",
       "mins                               0.0\n",
       "Name: 1, dtype: object"
      ]
     },
     "execution_count": 87,
     "metadata": {},
     "output_type": "execute_result"
    }
   ],
   "source": [
    "df.iloc[i]"
   ]
  },
  {
   "cell_type": "code",
   "execution_count": 88,
   "metadata": {},
   "outputs": [
    {
     "data": {
      "text/plain": [
       "bb_bf              60.00\n",
       "runs               45.00\n",
       "wicketball_prob     0.05\n",
       "runs_per_ball       0.75\n",
       "overs              10.00\n",
       "mdns                2.00\n",
       "econ                4.50\n",
       "inns                1.00\n",
       "4s                  0.00\n",
       "6s                  0.00\n",
       "sr                  0.00\n",
       "not_out             0.00\n",
       "mins                0.00\n",
       "Name: 1, dtype: float64"
      ]
     },
     "execution_count": 88,
     "metadata": {},
     "output_type": "execute_result"
    }
   ],
   "source": [
    "X.iloc[i]"
   ]
  },
  {
   "cell_type": "code",
   "execution_count": 89,
   "metadata": {},
   "outputs": [
    {
     "data": {
      "text/plain": [
       "3.0"
      ]
     },
     "execution_count": 89,
     "metadata": {},
     "output_type": "execute_result"
    }
   ],
   "source": [
    "y.iloc[i]"
   ]
  },
  {
   "cell_type": "code",
   "execution_count": 90,
   "metadata": {},
   "outputs": [],
   "source": [
    "X_scaled = scaler.fit_transform(X)"
   ]
  },
  {
   "cell_type": "code",
   "execution_count": 91,
   "metadata": {},
   "outputs": [
    {
     "name": "stdout",
     "output_type": "stream",
     "text": [
      "Predicted runs: 3.0\n"
     ]
    }
   ],
   "source": [
    "sample_scaled = X_scaled[i].reshape(1, -1)\n",
    "\n",
    "# Make predictions using the trained model\n",
    "prediction = best_model.predict(sample_scaled)\n",
    "\n",
    "print(\"Predicted runs:\", prediction[0])\n"
   ]
  },
  {
   "cell_type": "code",
   "execution_count": 92,
   "metadata": {},
   "outputs": [],
   "source": [
    "i = 3"
   ]
  },
  {
   "cell_type": "code",
   "execution_count": 93,
   "metadata": {},
   "outputs": [
    {
     "data": {
      "text/plain": [
       "team                                NZ\n",
       "player                LH Ferguson (NZ)\n",
       "bat_or_bowl                       bowl\n",
       "bb_bf                               60\n",
       "runs                                49\n",
       "wkts                               3.0\n",
       "wicketball_prob                   0.05\n",
       "runs_per_ball                 0.816667\n",
       "opposition                v Bangladesh\n",
       "ground                         Chennai\n",
       "start_date         2023-10-13 00:00:00\n",
       "overs                             10.0\n",
       "mdns                               0.0\n",
       "econ                               4.9\n",
       "inns                                 1\n",
       "4s                                 0.0\n",
       "6s                                 0.0\n",
       "sr                                 0.0\n",
       "not_out                            0.0\n",
       "mins                               0.0\n",
       "Name: 3, dtype: object"
      ]
     },
     "execution_count": 93,
     "metadata": {},
     "output_type": "execute_result"
    }
   ],
   "source": [
    "df.iloc[i]"
   ]
  },
  {
   "cell_type": "code",
   "execution_count": 94,
   "metadata": {},
   "outputs": [
    {
     "data": {
      "text/plain": [
       "bb_bf              60.000000\n",
       "runs               49.000000\n",
       "wicketball_prob     0.050000\n",
       "runs_per_ball       0.816667\n",
       "overs              10.000000\n",
       "mdns                0.000000\n",
       "econ                4.900000\n",
       "inns                1.000000\n",
       "4s                  0.000000\n",
       "6s                  0.000000\n",
       "sr                  0.000000\n",
       "not_out             0.000000\n",
       "mins                0.000000\n",
       "Name: 3, dtype: float64"
      ]
     },
     "execution_count": 94,
     "metadata": {},
     "output_type": "execute_result"
    }
   ],
   "source": [
    "X.iloc[i]"
   ]
  },
  {
   "cell_type": "code",
   "execution_count": 95,
   "metadata": {},
   "outputs": [
    {
     "data": {
      "text/plain": [
       "3.0"
      ]
     },
     "execution_count": 95,
     "metadata": {},
     "output_type": "execute_result"
    }
   ],
   "source": [
    "y.iloc[i]"
   ]
  },
  {
   "cell_type": "code",
   "execution_count": 96,
   "metadata": {},
   "outputs": [
    {
     "name": "stdout",
     "output_type": "stream",
     "text": [
      "Predicted runs: 3.0\n"
     ]
    }
   ],
   "source": [
    "sample_scaled = X_scaled[i].reshape(1, -1)\n",
    "\n",
    "# Make predictions using the trained model\n",
    "prediction = best_model.predict(sample_scaled)\n",
    "\n",
    "print(\"Predicted runs:\", prediction[0])\n"
   ]
  },
  {
   "cell_type": "code",
   "execution_count": 97,
   "metadata": {},
   "outputs": [],
   "source": [
    "i = 20"
   ]
  },
  {
   "cell_type": "code",
   "execution_count": 98,
   "metadata": {},
   "outputs": [
    {
     "data": {
      "text/plain": [
       "team                               IND\n",
       "player             Kuldeep Yadav (IND)\n",
       "bat_or_bowl                       bowl\n",
       "bb_bf                               31\n",
       "runs                                 7\n",
       "wkts                               2.0\n",
       "wicketball_prob               0.064516\n",
       "runs_per_ball                 0.225806\n",
       "opposition              v South Africa\n",
       "ground                    Eden Gardens\n",
       "start_date         2023-11-05 00:00:00\n",
       "overs                              5.1\n",
       "mdns                               1.0\n",
       "econ                              1.35\n",
       "inns                                 2\n",
       "4s                                 0.0\n",
       "6s                                 0.0\n",
       "sr                                 0.0\n",
       "not_out                            0.0\n",
       "mins                               0.0\n",
       "Name: 20, dtype: object"
      ]
     },
     "execution_count": 98,
     "metadata": {},
     "output_type": "execute_result"
    }
   ],
   "source": [
    "df.iloc[i]"
   ]
  },
  {
   "cell_type": "code",
   "execution_count": 99,
   "metadata": {},
   "outputs": [
    {
     "data": {
      "text/plain": [
       "bb_bf              31.000000\n",
       "runs                7.000000\n",
       "wicketball_prob     0.064516\n",
       "runs_per_ball       0.225806\n",
       "overs               5.100000\n",
       "mdns                1.000000\n",
       "econ                1.350000\n",
       "inns                2.000000\n",
       "4s                  0.000000\n",
       "6s                  0.000000\n",
       "sr                  0.000000\n",
       "not_out             0.000000\n",
       "mins                0.000000\n",
       "Name: 20, dtype: float64"
      ]
     },
     "execution_count": 99,
     "metadata": {},
     "output_type": "execute_result"
    }
   ],
   "source": [
    "X.iloc[i]"
   ]
  },
  {
   "cell_type": "code",
   "execution_count": 100,
   "metadata": {},
   "outputs": [
    {
     "data": {
      "text/plain": [
       "2.0"
      ]
     },
     "execution_count": 100,
     "metadata": {},
     "output_type": "execute_result"
    }
   ],
   "source": [
    "y.iloc[i]"
   ]
  },
  {
   "cell_type": "code",
   "execution_count": 101,
   "metadata": {},
   "outputs": [
    {
     "name": "stdout",
     "output_type": "stream",
     "text": [
      "Predicted runs: 2.06\n"
     ]
    }
   ],
   "source": [
    "sample_scaled = X_scaled[i].reshape(1, -1)\n",
    "\n",
    "# Make predictions using the trained model\n",
    "prediction = best_model.predict(sample_scaled)\n",
    "\n",
    "print(\"Predicted runs:\", prediction[0])\n"
   ]
  },
  {
   "cell_type": "code",
   "execution_count": 102,
   "metadata": {},
   "outputs": [
    {
     "name": "stdout",
     "output_type": "stream",
     "text": [
      "Model saved successfully to: WorldCup2023_wkts_best_model.pkl\n"
     ]
    }
   ],
   "source": [
    "import joblib\n",
    "\n",
    "# Define the file path where you want to save the model\n",
    "model_file_path = 'WorldCup2023_wkts_best_model.pkl'\n",
    "\n",
    "# Save the model to disk\n",
    "joblib.dump(best_model, model_file_path)\n",
    "\n",
    "print(\"Model saved successfully to:\", model_file_path)\n"
   ]
  },
  {
   "cell_type": "code",
   "execution_count": null,
   "metadata": {},
   "outputs": [],
   "source": []
  }
 ],
 "metadata": {
  "kernelspec": {
   "display_name": "Python 3",
   "language": "python",
   "name": "python3"
  },
  "language_info": {
   "codemirror_mode": {
    "name": "ipython",
    "version": 3
   },
   "file_extension": ".py",
   "mimetype": "text/x-python",
   "name": "python",
   "nbconvert_exporter": "python",
   "pygments_lexer": "ipython3",
   "version": "3.8.5"
  }
 },
 "nbformat": 4,
 "nbformat_minor": 4
}
